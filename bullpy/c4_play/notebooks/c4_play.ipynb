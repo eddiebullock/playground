{
 "cells": [
  {
   "cell_type": "markdown",
   "id": "0",
   "metadata": {},
   "source": [
    "# 750k dataset \n",
    "- somebody call dora \n"
   ]
  },
  {
   "cell_type": "code",
   "execution_count": null,
   "id": "1",
   "metadata": {},
   "outputs": [],
   "source": [
    "import pandas as pd\n",
    "import numpy as np \n",
    "import matplotlib.pyplot as plt\n",
    "import seaborn as sns\n",
    "\n",
    "#make plots leng \n",
    "sns.set(style=\"whitegrid\")\n",
    "%matplotlib inline\n",
    "\n",
    "# load data \n",
    "df = pd.read_csv('/Users/eb2007/Library/CloudStorage/OneDrive-UniversityofCambridge/Documents/PhD/data/data_c4_raw.csv')\n",
    "\n",
    "# initial data inspection \n",
    "print(\"Shape:\", df.shape)\n",
    "print(\"columns:\", df.columns)\n",
    "display(df.head())\n",
    "print(df.info())\n",
    "print(df.isnull().sum())\n",
    "\n",
    "# basic stats \n",
    "display(df.describe(include='all'))\n",
    "\n",
    "# visualise the data \n",
    "# distribution of target variable\n",
    "# what are the values in columns\n",
    "print(\"sample of diagnosis columns\")\n",
    "diagnosis_cols = [col for col in df.columns if 'diagnosis' in col]\n",
    "print(diagnosis_cols)\n",
    "\n",
    "# any autism diagnosis \n",
    "autism_cols = [col for col in df.columns if 'autism_diagnosis' in col]\n",
    "\n",
    "df['autism_any'] = df[autism_cols].apply(\n",
    "    lambda row: int(any(x in [1.0, 2.0, 3.0] for x in row if not pd.isnull(x))),\n",
    "    axis=1\n",
    ")\n",
    "\n",
    "print(df['autism_any'].value_counts())\n",
    "sns.countplot(x='autism_any', data=df)\n",
    "plt.title('any autism diagnosis (0 no 1 yes)')\n",
    "plt.show()\n",
    "\n",
    "# multi class target: most specific autism subtype \n",
    "def get_first_autism_subtype(row):\n",
    "    for x in row :\n",
    "        if x in [1.0, 2.0, 3.0]:\n",
    "            return int(x)\n",
    "    return 0 # no autism diagnosis \n",
    "\n",
    "df['autism_subtype'] = df[autism_cols].apply(get_first_autism_subtype, axis=1)\n",
    "print(df['autism_subtype'].value_counts())\n",
    "sns.countplot(x='autism_subtype', data=df)\n",
    "plt.title('Autism subtype')\n",
    "plt.show()\n",
    "\n",
    "#multi-label: one hot encoding for each subtype\n",
    "\n",
    "#create seperate columns for each subtype \n",
    "for subtype in [1.0, 2.0, 3.0]:\n",
    "    df[f'autism_subtype_{int(subtype)}'] = df[autism_cols].apply(\n",
    "        lambda row: int(subtype in row.values), axis=1\n",
    "    )\n",
    "\n",
    "print(df[[f'autism_subtype_{i}' for i in [1, 2, 3]]].sum())\n"
   ]
  },
  {
   "cell_type": "code",
   "execution_count": null,
   "id": "2",
   "metadata": {},
   "outputs": [],
   "source": [
    "# plotting distribution for each subtype \n",
    "for i in [1 ,2 ,3]:\n",
    "    sns.countplot(x=f'autism_subtype_{i}', data=df)\n",
    "    plt.title(f'Autism subtype {i} (0 no 1 yes)')\n",
    "    plt.show()"
   ]
  },
  {
   "cell_type": "markdown",
   "id": "3",
   "metadata": {},
   "source": [
    "# EDA"
   ]
  },
  {
   "cell_type": "code",
   "execution_count": null,
   "id": "4",
   "metadata": {},
   "outputs": [],
   "source": [
    "# --- EDA feature overview and missing data ---\n",
    "\n",
    "# list all columns and their types \n",
    "print(df.dtypes)\n",
    "\n",
    "# count missing values per column \n",
    "missing = df.isnull().sum().sort_values(ascending=False)\n",
    "print(\"Missing values per column:\\n\", missing[missing > 0])\n",
    "\n",
    "# visualize missing data \n",
    "plt.figure(figsize=(12,6))\n",
    "sns.heatmap(df.isnull(), cbar=False)\n",
    "plt.title(\"Missing Data Heatmap\")\n",
    "plt.show()"
   ]
  },
  {
   "cell_type": "code",
   "execution_count": null,
   "id": "5",
   "metadata": {},
   "outputs": [],
   "source": [
    "# --- Univariate Analysis: categorical features ---\n",
    "\n",
    "# list of known coded categorical columns \n",
    "coded_cat_cols = ['sex', 'handedness', 'education', 'occupation', 'country_region']\n",
    "\n",
    "for col in coded_cat_cols:\n",
    "    if col in df.columns:\n",
    "        plt.figure(figsize=(8,4))\n",
    "        df[col].value_counts(dropna=False).sort_index().plot(kind='bar')\n",
    "        plt.title(f'Values counts of {col}')\n",
    "        plt.xlabel(f'{col} (coded)')\n",
    "        plt.ylabel('Count')\n",
    "        plt.show()\n",
    "\n"
   ]
  },
  {
   "cell_type": "code",
   "execution_count": null,
   "id": "6",
   "metadata": {},
   "outputs": [],
   "source": []
  }
 ],
 "metadata": {
  "kernelspec": {
   "display_name": "Python (questionnaire_asc)",
   "language": "python",
   "name": "questionnaire_asc"
  },
  "language_info": {
   "codemirror_mode": {
    "name": "ipython",
    "version": 3
   },
   "file_extension": ".py",
   "mimetype": "text/x-python",
   "name": "python",
   "nbconvert_exporter": "python",
   "pygments_lexer": "ipython3",
   "version": "3.13.5"
  }
 },
 "nbformat": 4,
 "nbformat_minor": 5
}
