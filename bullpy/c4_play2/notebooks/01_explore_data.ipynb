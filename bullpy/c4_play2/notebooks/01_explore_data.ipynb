{
 "cells": [
  {
   "cell_type": "code",
   "execution_count": null,
   "id": "0",
   "metadata": {},
   "outputs": [],
   "source": [
    "import pandas as pd\n",
    "import numpy as np \n",
    "import matplotlib.pyplot as plt\n",
    "import seaborn as sns\n",
    "\n",
    "# load data \n",
    "from src.data_loader import load_data\n",
    "\n",
    "# load the data \n",
    "df = load_data(\"/Users/eb2007/Library/CloudStorage/OneDrive-UniversityofCambridge/Documents/PhD/data/data_c4_raw.csv\")\n",
    "\n",
    "# basic info \n",
    "print(\"dataset shape:\", df.shape)\n",
    "print(\"\\ndata types:\")\n",
    "print(df.dtypes)\n",
    "print(\"\\nmissing values:\")\n",
    "print(df.isnull().sum())"
   ]
  },
  {
   "cell_type": "markdown",
   "id": "1",
   "metadata": {},
   "source": [
    "# address the target var"
   ]
  },
  {
   "cell_type": "code",
   "execution_count": null,
   "id": "2",
   "metadata": {},
   "outputs": [],
   "source": [
    "# Check autism diagnosis columns (should have values 1, 2, or 3)\n",
    "print(\"Autism diagnosis columns:\")\n",
    "for col in [col for col in df.columns if 'autism_diagnosis' in col]:\n",
    "    print(f\"{col}: {df[col].value_counts().to_dict()}\")\n",
    "    print(f\"Missing: {df[col].isnull().sum()}\")\n",
    "    print(\"---\")\n",
    "\n",
    "# Check regular diagnosis columns (should have value 2 for autism)\n",
    "print(\"\\nRegular diagnosis columns:\")\n",
    "for col in [col for col in df.columns if col.startswith('diagnosis_') and not 'autism' in col]:\n",
    "    print(f\"{col}: {df[col].value_counts().to_dict()}\")\n",
    "    print(f\"Missing: {df[col].isnull().sum()}\")\n",
    "    print(\"---\")\n",
    "\n",
    "\n"
   ]
  },
  {
   "cell_type": "code",
   "execution_count": null,
   "id": "3",
   "metadata": {},
   "outputs": [],
   "source": [
    "# check what diagnosis columns actually exist \n",
    "print(\"all columns containing 'diagnosis':\")\n",
    "diagnosis_related = [col for col in df.columns if 'diagnosis' in col]\n",
    "print(diagnosis_related)\n",
    "\n",
    "print(\"\\nall autism diagnosis columns:\")\n",
    "autism_diag = [col for col in df.columns if 'autism_diagnosis' in col]\n",
    "print(autism_diag)\n"
   ]
  },
  {
   "cell_type": "code",
   "execution_count": null,
   "id": "4",
   "metadata": {},
   "outputs": [],
   "source": [
    "# get the correct columns names \n",
    "autism_cols = [col for col in df.columns if 'autism_diagnosis' in col]\n",
    "diagnosis_cols = [col for col in df.columns if col.startswith('diagnosis_') and not 'autism' in col]\n",
    "\n",
    "print(f\"autism columns found: {autism_cols}\")\n",
    "print(f\"diagnosis columns found: {diagnosis_cols}\")\n",
    "\n",
    "# method 1 autism diagnosis columns \n",
    "if autism_cols:\n",
    "    autism_from_specific = df[autism_cols].fillna(0).ge(1).any(axis=1)\n",
    "else:\n",
    "    autism_from_specific = pd.Series([False] * len(df))\n",
    "\n",
    "# method 2 regular diagnosis columns \n",
    "if diagnosis_cols:\n",
    "    autism_from_general = df[diagnosis_cols].fillna(0).eq(2).any(axis=1)\n",
    "else: \n",
    "    autism_from_general = pd.Series([False] * len(df))\n",
    "\n",
    "df['autism_target'] = (autism_from_specific | autism_from_general).astype(int)"
   ]
  },
  {
   "cell_type": "markdown",
   "id": "5",
   "metadata": {},
   "source": [
    "# creating target var "
   ]
  },
  {
   "cell_type": "code",
   "execution_count": null,
   "id": "6",
   "metadata": {},
   "outputs": [],
   "source": [
    "# get columns dynamically from your datafram\n",
    "autism_cols = [col for col in df.columns if 'autism_diagnosis' in col]\n",
    "diagnosis_cols = [col for col in df.columns if col.startswith('diagnosis_') and not 'autism' in col]\n",
    "\n",
    "# method 1 autism fiagnosis columns\n",
    "autism_from_specific = df[autism_cols].fillna(0).ge(1).any(axis=1)\n",
    "\n",
    "# method 2 regular diagnosis columns \n",
    "autism_from_general = df[diagnosis_cols].fillna(0).eq(2).any(axis=1)\n",
    "\n",
    "# combined target \n",
    "df['autism_target'] = (autism_from_specific | autism_from_general).astype(int)\n",
    "\n",
    "# analysis of target var \n",
    "print(\"combined target variable analysis:\")\n",
    "print(\"total cases: {len(df)}\")\n",
    "print(f\"autism cases: {df['autism_target'].sum()}\")\n",
    "print(f\"non-autism cases: {len(df) - df['autism_target'].sum()}\")\n",
    "print(f\"autism percentage: {(df['autism_target'].sum() / len(df)) * 100:.2f}%\")\n",
    "\n",
    "# check for class imbalance \n",
    "print(f\"\\nclass imbalance:\")\n",
    "print(f\"autism: {df['autism_target'].sum()} ({df['autism_target'].mean()*100:.1f}%)\")\n",
    "print(f\"non-autism: {(df['autism_target'] == 0).sum()} ({(1-df['autism_target'].mean())*100:.1f}%)\")"
   ]
  },
  {
   "cell_type": "markdown",
   "id": "7",
   "metadata": {},
   "source": [
    "# EDA\n"
   ]
  },
  {
   "cell_type": "code",
   "execution_count": null,
   "id": "8",
   "metadata": {},
   "outputs": [],
   "source": [
    "import matplotlib.pyplot as plt\n",
    "import seaborn as sns\n",
    "\n",
    "# visualise class imbalance\n",
    "sns.countplot(x='autism_target', data=df)\n",
    "plt.title('class balance: autism vs non-autism')\n",
    "plt.xticks([0, 1], ['non-autism', 'autism'])\n",
    "plt.show()\n",
    "\n",
    "# age distribution \n",
    "sns.histplot(data=df, x='age', hue='autism_target', bins=30, kde=True, stat='density')\n",
    "plt.title('age distribution by autism status')\n",
    "plt.show()\n",
    "\n",
    "# sex distribution \n",
    "sex_map = {0: 'male', 1: 'female'}\n",
    "df['sex_label'] = df['sex'].map(sex_map)  # create a new column\n",
    "\n",
    "sns.countplot(x='sex', hue='autism_target', data=df)\n",
    "plt.title('Sex by Autism Diagnosis')\n",
    "plt.show()"
   ]
  },
  {
   "cell_type": "code",
   "execution_count": null,
   "id": "9",
   "metadata": {},
   "outputs": [],
   "source": [
    "# questionnaire scores\n",
    "import matplotlib.pyplot as plt\n",
    "import seaborn as sns\n",
    "\n",
    "#list all questionnaire columns\n",
    "questionnaire_cols = [col for col in df.columns if any(q in col for q in ['spq_', 'eq_', 'spqr_', 'aq_'])]\n",
    "\n",
    "df_melted = df.melt(id_vars='autism_target', value_vars=questionnaire_cols,\n",
    "                             var_name='questionnaire', value_name='score')\n",
    "\n",
    "plt.figure(figsize=(16, 6))\n",
    "sns.boxplot(x='questionnaire', y='score', hue='autism_target', data=df_melted)\n",
    "plt.title('distribution of questionnaire scores by autism diagnosis')\n",
    "plt.xticks(rotation=90)\n",
    "plt.legend(title='autism')\n",
    "plt.show()\n",
    "\n",
    "#plot violins\n",
    "plt.figure(figsize=(16, 6))\n",
    "sns.violinplot(x='questionnaire', y='score', hue='autism_target', data=df_melted, split=True)\n",
    "plt.title('violin plot of questionnaire scores by autism diagnosis')\n",
    "plt.xticks(rotation=90)\n",
    "plt.legend(title='autism')\n",
    "plt.show()\n",
    "\n",
    "# facegrid \n",
    "g = sns.FacetGrid(df_melted, col='questionnaire', col_wrap=5, height=3, sharey=False)\n",
    "g.map(sns.boxplot, \"autism_target\", \"score\", order=[0, 1])\n",
    "g.fig.subplots_adjust(top=0.9)\n",
    "g.fig.suptitle('boxplot of questionnaire scores by autism diagnosis')\n",
    "plt.show()\n",
    "\n",
    "# heatmap of mean differences \n",
    "means = df.groupby('autism_target')[questionnaire_cols].mean().T\n",
    "means['diff'] = means[1] - means[0]\n",
    "plt.figure(figsize=(10, 1))\n",
    "sns.heatmap(means[['diff']].T, annot=True, cmap='coolwarm', center=0)\n",
    "plt.title('mean score difference (autism - non-autism)')\n",
    "plt.yticks(rotation=0)\n",
    "plt.show()\n"
   ]
  }
 ],
 "metadata": {
  "kernelspec": {
   "display_name": "Python (c4_play2)",
   "language": "python",
   "name": "c4_play2"
  },
  "language_info": {
   "codemirror_mode": {
    "name": "ipython",
    "version": 3
   },
   "file_extension": ".py",
   "mimetype": "text/x-python",
   "name": "python",
   "nbconvert_exporter": "python",
   "pygments_lexer": "ipython3",
   "version": "3.13.5"
  }
 },
 "nbformat": 4,
 "nbformat_minor": 5
}
