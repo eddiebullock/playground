{
 "cells": [
  {
   "cell_type": "code",
   "execution_count": null,
   "id": "0",
   "metadata": {},
   "outputs": [],
   "source": [
    "import pandas as pd\n",
    "import numpy as np \n",
    "import matplotlib.pyplot as plt\n",
    "import seaborn as sns\n",
    "\n",
    "# load data \n",
    "from src.data_loader import load_data\n",
    "\n",
    "# load the data \n",
    "df = load_data(\"/Users/eb2007/Library/CloudStorage/OneDrive-UniversityofCambridge/Documents/PhD/data/data_c4_raw.csv\")\n",
    "\n",
    "# basic info \n",
    "print(\"dataset shape:\", df.shape)\n",
    "print(\"\\ndata types:\")\n",
    "print(df.dtypes)\n",
    "print(\"\\nmissing values:\")\n",
    "print(df.isnull().sum())"
   ]
  },
  {
   "cell_type": "markdown",
   "id": "1",
   "metadata": {},
   "source": [
    "# address the target var"
   ]
  },
  {
   "cell_type": "code",
   "execution_count": null,
   "id": "2",
   "metadata": {},
   "outputs": [],
   "source": [
    "# Check autism diagnosis columns (should have values 1, 2, or 3)\n",
    "print(\"Autism diagnosis columns:\")\n",
    "for col in [col for col in df.columns if 'autism_diagnosis' in col]:\n",
    "    print(f\"{col}: {df[col].value_counts().to_dict()}\")\n",
    "    print(f\"Missing: {df[col].isnull().sum()}\")\n",
    "    print(\"---\")\n",
    "\n",
    "# Check regular diagnosis columns (should have value 2 for autism)\n",
    "print(\"\\nRegular diagnosis columns:\")\n",
    "for col in [col for col in df.columns if col.startswith('diagnosis_') and not 'autism' in col]:\n",
    "    print(f\"{col}: {df[col].value_counts().to_dict()}\")\n",
    "    print(f\"Missing: {df[col].isnull().sum()}\")\n",
    "    print(\"---\")\n",
    "\n",
    "\n"
   ]
  },
  {
   "cell_type": "code",
   "execution_count": null,
   "id": "3",
   "metadata": {},
   "outputs": [],
   "source": [
    "# check what diagnosis columns actually exist \n",
    "print(\"all columns containing 'diagnosis':\")\n",
    "diagnosis_related = [col for col in df.columns if 'diagnosis' in col]\n",
    "print(diagnosis_related)\n",
    "\n",
    "print(\"\\nall autism diagnosis columns:\")\n",
    "autism_diag = [col for col in df.columns if 'autism_diagnosis' in col]\n",
    "print(autism_diag)\n"
   ]
  },
  {
   "cell_type": "code",
   "execution_count": null,
   "id": "4",
   "metadata": {},
   "outputs": [],
   "source": [
    "# get the correct columns names \n",
    "autism_cols = [col for col in df.columns if ]"
   ]
  }
 ],
 "metadata": {
  "kernelspec": {
   "display_name": "Python (c4_play2)",
   "language": "python",
   "name": "c4_play2"
  },
  "language_info": {
   "codemirror_mode": {
    "name": "ipython",
    "version": 3
   },
   "file_extension": ".py",
   "mimetype": "text/x-python",
   "name": "python",
   "nbconvert_exporter": "python",
   "pygments_lexer": "ipython3",
   "version": "3.13.5"
  }
 },
 "nbformat": 4,
 "nbformat_minor": 5
}
