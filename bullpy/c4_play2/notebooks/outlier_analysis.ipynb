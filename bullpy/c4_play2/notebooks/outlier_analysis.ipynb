{
 "cells": [
  {
   "cell_type": "markdown",
   "id": "0",
   "metadata": {},
   "source": [
    "# outlier analysis "
   ]
  },
  {
   "cell_type": "code",
   "execution_count": null,
   "id": "1",
   "metadata": {},
   "outputs": [],
   "source": [
    "import pandas as pd\n",
    "import matplotlib.pyplot as plt\n",
    "import seaborn as sns\n",
    "\n",
    "# load data\n",
    "df = pd.read_csv('/Users/eb2007/playground/bullpy/c4_play2/data/processed/data_c4_processed.csv')\n",
    "\n",
    "# list numeric columns to check for outliers \n",
    "numeric_cols = df.select_dtypes(include=['float64', 'int64']).columns\n",
    "\n",
    "# boxplots for all numeric features\n",
    "for col in numeric_cols:\n",
    "    plt.figure(figsize=(8, 1))\n",
    "    sns.boxplot(x=df[col], orient='h')\n",
    "    plt.title(f'Boxplot of {col}')\n",
    "    plt.show()\n",
    "\n",
    "# show summary stats \n",
    "print(df[numeric_cols].describe().T)\n",
    "\n",
    "# identify outlier using IQR \n",
    "outlier_summary = {}\n",
    "for col in numeric_cols:\n",
    "    q1 = df[col].quantile(0.25)\n",
    "    q3 = df[col].quantile(0.75)\n",
    "    IQR = q1 - q3\n",
    "    outliers = df[(df[col] < q1 - 1/5 * IQR) | (df[col] > q3 + 1.5 * IQR)]\n",
    "    outlier_summary[col] = len(outliers)\n",
    "print(\"number of outliers per column:\", outlier_summary)\n"
   ]
  }
 ],
 "metadata": {
  "kernelspec": {
   "display_name": "Python (c4_play2)",
   "language": "python",
   "name": "c4_play2"
  },
  "language_info": {
   "codemirror_mode": {
    "name": "ipython",
    "version": 3
   },
   "file_extension": ".py",
   "mimetype": "text/x-python",
   "name": "python",
   "nbconvert_exporter": "python",
   "pygments_lexer": "ipython3",
   "version": "3.13.5"
  }
 },
 "nbformat": 4,
 "nbformat_minor": 5
}
