{
 "cells": [
  {
   "cell_type": "markdown",
   "id": "0",
   "metadata": {},
   "source": [
    "# feature engineering \n",
    "- matched sample "
   ]
  },
  {
   "cell_type": "code",
   "execution_count": null,
   "id": "1",
   "metadata": {},
   "outputs": [],
   "source": [
    "import pandas as pd\n",
    "import numpy as np \n",
    "from sklearn.feature_selection import VarianceThreshold\n",
    "\n",
    "# load matched data \n",
    "df = pd.read_csv('data/processed/data_c4_matched_balanced.csv')\n",
    "\n",
    "# 1. feature creation \n",
    "\n",
    "# age group bins\n",
    "df['age_group'] = pd.cut(df['age'], bins=[0, 18, 30, 45, 60, 100], labels=['0-18', '19-30', '31-45', '46-60', '61+'])\n",
    "\n",
    "#non linear transformation \n",
    "df['log_aq_total'] = np.log1p(df['aq_total'])\n",
    "df['sqrt_age'] = np.sqrt(df['age'])\n",
    "\n",
    "# interaction terms\n",
    "df['aq_eq_interaction'] = df['aq_total'] * df['eq_total']\n",
    "df['sqp_aq_interaction'] = df['spq_total'] * df['aq_total']\n",
    "df['age_x_eq'] = df['age'] * df['eq_total']\n",
    "\n",
    "# questionnaire score ratios \n",
    "df['aq_spq_ratio'] = df['aq_total'] / (df['spq_total'] + 1e-8)\n",
    "df['eq_sqr_ratio'] = df['eq_total'] / (df['sqr_total'] + 1e-8)\n",
    "\n",
    "#boolean: high aq (above 1 std)\n",
    "df['high_aq'] = (df['aq_total'] > df['aq_total'].mean() + df['aq_total'].std()).astype(int)\n",
    "\n",
    "# 2. feature reduction/selection\n",
    "\n",
    "# remove highly correlated features \n",
    "# Only use numeric columns for correlation\n",
    "numeric_cols = df.drop(columns=['autism_target']).select_dtypes(include=[np.number]).columns\n",
    "corr_matrix = df[numeric_cols].corr().abs()\n",
    "upper = corr_matrix.where(np.triu(np.ones(corr_matrix.shape), k=1).astype(bool))\n",
    "to_drop = [column for column in upper.columns if any(upper[column] > 0.95)]\n",
    "df = df.drop(columns=to_drop)\n",
    "\n",
    "# drop low variance features \n",
    "# Only apply VarianceThreshold to numeric columns\n",
    "feature_cols = df.drop(columns=['autism_target']).select_dtypes(include=[np.number]).columns\n",
    "selector = VarianceThreshold(threshold=0.1)\n",
    "selector.fit(df[feature_cols])\n",
    "low_variance_cols = feature_cols[~selector.get_support()]\n",
    "df = df.drop(columns=low_variance_cols)\n",
    "\n",
    "# 3. one-hot encode new categorical features \n",
    "df = pd.get_dummies(df, columns=['age_group'], drop_first=True)\n",
    "\n",
    "# 4. save engineered dataset \n",
    "df.to_csv('data/processed/data_c4_balanced_fe.csv', index=False)\n",
    "\n",
    "print(\"feature engineering complete. new shape:\", df.shape)\n",
    "print(\"columns:\", df.columns.tolist())"
   ]
  }
 ],
 "metadata": {
  "kernelspec": {
   "display_name": "Python (c4_play2)",
   "language": "python",
   "name": "c4_play2"
  },
  "language_info": {
   "codemirror_mode": {
    "name": "ipython",
    "version": 3
   },
   "file_extension": ".py",
   "mimetype": "text/x-python",
   "name": "python",
   "nbconvert_exporter": "python",
   "pygments_lexer": "ipython3",
   "version": "3.13.5"
  }
 },
 "nbformat": 4,
 "nbformat_minor": 5
}
