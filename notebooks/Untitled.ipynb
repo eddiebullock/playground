{
 "cells": [
  {
   "cell_type": "code",
   "execution_count": 1,
   "id": "98751307-3db4-4d19-a1c5-4eaf8d3c03dc",
   "metadata": {},
   "outputs": [
    {
     "ename": "AttributeError",
     "evalue": "module 'data_cleaning' has no attribute 'main'",
     "output_type": "error",
     "traceback": [
      "\u001b[0;31m---------------------------------------------------------------------------\u001b[0m",
      "\u001b[0;31mAttributeError\u001b[0m                            Traceback (most recent call last)",
      "Cell \u001b[0;32mIn[1], line 2\u001b[0m\n\u001b[1;32m      1\u001b[0m \u001b[38;5;28;01mimport\u001b[39;00m\u001b[38;5;250m \u001b[39m\u001b[38;5;21;01mdata_cleaning\u001b[39;00m\n\u001b[0;32m----> 2\u001b[0m \u001b[43mdata_cleaning\u001b[49m\u001b[38;5;241;43m.\u001b[39;49m\u001b[43mmain\u001b[49m()\n",
      "\u001b[0;31mAttributeError\u001b[0m: module 'data_cleaning' has no attribute 'main'"
     ]
    }
   ],
   "source": [
    "import data_cleaning\n",
    "data_cleaning.main()"
   ]
  },
  {
   "cell_type": "code",
   "execution_count": null,
   "id": "bf628b85-45ec-4aac-80f8-83c7e1fa5557",
   "metadata": {},
   "outputs": [],
   "source": []
  }
 ],
 "metadata": {
  "kernelspec": {
   "display_name": "Python 3 (ipykernel)",
   "language": "python",
   "name": "python3"
  },
  "language_info": {
   "codemirror_mode": {
    "name": "ipython",
    "version": 3
   },
   "file_extension": ".py",
   "mimetype": "text/x-python",
   "name": "python",
   "nbconvert_exporter": "python",
   "pygments_lexer": "ipython3",
   "version": "3.10.4"
  }
 },
 "nbformat": 4,
 "nbformat_minor": 5
}
