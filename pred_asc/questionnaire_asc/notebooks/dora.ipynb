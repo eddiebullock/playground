{
 "cells": [
  {
   "cell_type": "markdown",
   "id": "0",
   "metadata": {},
   "source": [
    "# Exploratory Data Analysis (EDA)\n",
    "\n",
    "Dataset: `/Users/eb2007/Library/CloudStorage/OneDrive-UniversityofCambridge/Documents/PhD/data/data_c4_raw.csv` (≈700K rows)\n",
    "---"
   ]
  },
  {
   "cell_type": "code",
   "execution_count": null,
   "id": "1",
   "metadata": {},
   "outputs": [],
   "source": [
    "import pandas as pd\n",
    "import numpy as np\n",
    "import matplotlib.pyplot as plt\n",
    "import seaborn as sns\n",
    "\n",
    "pd.set_option('display.max_columns', 50)\n",
    "pd.set_option('display.width', 120)"
   ]
  },
  {
   "cell_type": "code",
   "execution_count": null,
   "id": "2",
   "metadata": {},
   "outputs": [],
   "source": [
    "# Path to the large CSV file\n",
    "csv_path = '/Users/eb2007/Library/CloudStorage/OneDrive-UniversityofCambridge/Documents/PhD/data/data_c4_raw.csv'\n",
    "\n",
    "# Read a small sample to infer dtypes and preview\n",
    "sample = pd.read_csv(csv_path, nrows=5000)\n",
    "display(sample.info())\n",
    "display(sample.head())"
   ]
  },
  {
   "cell_type": "code",
   "execution_count": null,
   "id": "3",
   "metadata": {},
   "outputs": [],
   "source": [
    "# Try to load the full dataset\n",
    "try:\n",
    "    df = pd.read_csv(csv_path)\n",
    "    print('Shape:', df.shape)\n",
    "    print('Columns:', df.columns.tolist())\n",
    "    print('Memory usage (MB):', df.memory_usage(deep=True).sum() / 1e6)\n",
    "    display(df.head())\n",
    "    display(df.tail())\n",
    "    print('Missing values per column:')\n",
    "    print(df.isnull().sum())\n",
    "    display(df.describe(include=\"all\"))\n",
    "except MemoryError:\n",
    "    print('MemoryError: Consider loading with chunksize or specifying dtypes.')\n",
    "    df = None"
   ]
  }
 ],
 "metadata": {
  "kernelspec": {
   "display_name": "Python (questionnaire_asc)",
   "language": "python",
   "name": "questionnaire_asc"
  },
  "language_info": {
   "codemirror_mode": {
    "name": "ipython",
    "version": 3
   },
   "file_extension": ".py",
   "mimetype": "text/x-python",
   "name": "python",
   "nbconvert_exporter": "python",
   "pygments_lexer": "ipython3",
   "version": "3.13.5"
  }
 },
 "nbformat": 4,
 "nbformat_minor": 5
}
