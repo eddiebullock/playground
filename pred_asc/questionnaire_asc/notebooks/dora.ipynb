{
 "cells": [
  {
   "cell_type": "markdown",
   "id": "0",
   "metadata": {},
   "source": [
    "# Exploratory Data Analysis (EDA)\n",
    "\n",
    "Dataset: `/Users/eb2007/Library/CloudStorage/OneDrive-UniversityofCambridge/Documents/PhD/data/data_c4_raw.csv` (≈700K rows)\n",
    "---"
   ]
  },
  {
   "cell_type": "code",
   "execution_count": null,
   "id": "1",
   "metadata": {},
   "outputs": [],
   "source": [
    "import pandas as pd\n",
    "import numpy as np\n",
    "import matplotlib.pyplot as plt\n",
    "import seaborn as sns\n",
    "\n",
    "pd.set_option('display.max_columns', 50)\n",
    "pd.set_option('display.width', 120)"
   ]
  },
  {
   "cell_type": "code",
   "execution_count": null,
   "id": "2",
   "metadata": {},
   "outputs": [],
   "source": [
    "# Path to the large CSV file\n",
    "csv_path = '/Users/eb2007/Library/CloudStorage/OneDrive-UniversityofCambridge/Documents/PhD/data/data_c4_raw.csv'\n",
    "\n",
    "# Read a small sample to infer dtypes and preview\n",
    "sample = pd.read_csv(csv_path, nrows=5000)\n",
    "display(sample.info())\n",
    "display(sample.head())"
   ]
  },
  {
   "cell_type": "code",
   "execution_count": null,
   "id": "3",
   "metadata": {},
   "outputs": [],
   "source": [
    "# Try to load the full dataset\n",
    "try:\n",
    "    df = pd.read_csv(csv_path)\n",
    "    print('Shape:', df.shape)\n",
    "    print('Columns:', df.columns.tolist())\n",
    "    print('Memory usage (MB):', df.memory_usage(deep=True).sum() / 1e6)\n",
    "    display(df.head())\n",
    "    display(df.tail())\n",
    "    print('Missing values per column:')\n",
    "    print(df.isnull().sum())\n",
    "    display(df.describe(include=\"all\"))\n",
    "except MemoryError:\n",
    "    print('MemoryError: Consider loading with chunksize or specifying dtypes.')\n",
    "    df = None"
   ]
  },
  {
   "cell_type": "markdown",
   "id": "4",
   "metadata": {},
   "source": [
    "# Counting autism diagnoses\n",
    "\n",
    "- this is pre-cleaning"
   ]
  },
  {
   "cell_type": "markdown",
   "id": "5",
   "metadata": {},
   "source": []
  },
  {
   "cell_type": "code",
   "execution_count": null,
   "id": "6",
   "metadata": {},
   "outputs": [],
   "source": [
    "# List of relevant columns\n",
    "diagnosis_cols = [f'diagnosis_{i}' for i in range(9)]\n",
    "autism_diag_cols = [f'autism_diagnosis_{i}' for i in range(3)]\n",
    "\n",
    "# Ensure columns exist in the DataFrame\n",
    "diagnosis_cols = [col for col in diagnosis_cols if col in df.columns]\n",
    "autism_diag_cols = [col for col in autism_diag_cols if col in df.columns]\n",
    "\n",
    "# Condition 1: Any '2' in diagnosis columns\n",
    "diagnosis_autistic = df[diagnosis_cols].apply(lambda row: (row == 2).any() or (row == '2').any(), axis=1)\n",
    "\n",
    "# Condition 2: Any '1', '2', or '3' in autism_diagnosis columns\n",
    "autism_diag_autistic = df[autism_diag_cols].apply(lambda row: row.isin([1, 2, 3]).any() or row.isin(['1', '2', '3']).any(), axis=1)\n",
    "\n",
    "# Combine conditions\n",
    "autistic_participants = diagnosis_autistic | autism_diag_autistic\n",
    "\n",
    "# Count\n",
    "num_autistic = autistic_participants.sum()\n",
    "print(f'Number of autistic participants: {num_autistic}')"
   ]
  },
  {
   "cell_type": "markdown",
   "id": "7",
   "metadata": {},
   "source": [
    "# Exploring clean dataset "
   ]
  },
  {
   "cell_type": "code",
   "execution_count": null,
   "id": "8",
   "metadata": {},
   "outputs": [],
   "source": [
    "# load the cleaned data\n",
    "clean_csv_path = '/Users/eb2007/Library/CloudStorage/OneDrive-UniversityofCambridge/Documents/PhD/data/data_c4_clean.csv'\n",
    "df_clean = pd.read_csv(clean_csv_path)"
   ]
  },
  {
   "cell_type": "code",
   "execution_count": null,
   "id": "9",
   "metadata": {},
   "outputs": [],
   "source": [
    "# reapeat autistic participants count logic \n",
    "diagnosis_cols = [f'diagnosis_{i}' for i in range(9) if f'diagnosis_{i}' in df_clean.columns]\n",
    "autism_diag_cols = [f'autism_diagnosis_{i}' for i in range(3) if f'autism_diagnosis_{i}' in df_clean.columns]\n",
    "\n",
    "diagnosis_autistic = df_clean[diagnosis_cols].apply(lambda row: (row == 2).any() or (row == '2').any(), axis=1)\n",
    "autism_diag_autistic = df_clean[autism_diag_cols].apply(lambda row: row.isin([1, 2, 3]).any() or row.isin(['1', '2', '3']).any(), axis=1)\n",
    "autistic_participants = diagnosis_autistic | autism_diag_autistic\n",
    "num_autistic = autistic_participants.sum()\n",
    "print(f'Number of autistic participants in cleaned data: {num_autistic}')"
   ]
  }
 ],
 "metadata": {
  "kernelspec": {
   "display_name": "Python (questionnaire_asc)",
   "language": "python",
   "name": "questionnaire_asc"
  },
  "language_info": {
   "codemirror_mode": {
    "name": "ipython",
    "version": 3
   },
   "file_extension": ".py",
   "mimetype": "text/x-python",
   "name": "python",
   "nbconvert_exporter": "python",
   "pygments_lexer": "ipython3",
   "version": "3.13.5"
  }
 },
 "nbformat": 4,
 "nbformat_minor": 5
}
