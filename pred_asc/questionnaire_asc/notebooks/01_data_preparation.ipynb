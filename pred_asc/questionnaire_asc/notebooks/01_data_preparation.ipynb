{
 "cells": [
  {
   "cell_type": "code",
   "execution_count": null,
   "metadata": {},
   "outputs": [],
   "source": [
    "# 01 Data Preparation\n",
    "\n",
    "## Initial inspection and light cleaning of the main dataset.\n",
    "\n",
    "'''python\n",
    "- Loads the dataset.\n",
    "- Displays shape, columns, dtypes.\n",
    "- Checks for missing values.\n",
    "- Checks value distributions for key columns.\n",
    "- Outputs summary statistics.'''"
   ]
  },
  {
   "cell_type": "code",
   "execution_count": null,
   "metadata": {},
   "outputs": [],
   "source": [
    "import pandas as pd\n",
    "import numpy as np\n",
    "import os\n",
    "\n",
    "DATA_PATH = '/Users/eb2007/Library/CloudStorage/OneDrive-UniversityofCambridge/Documents/PhD/data/data_c4_clean.csv'\n",
    "\n",
    "# Load dataset\n",
    "df = pd.read_csv(DATA_PATH)\n",
    "print(f'Shape: {df.shape}')\n",
    "df.head()"
   ]
  },
  {
   "cell_type": "code",
   "execution_count": null,
   "metadata": {},
   "outputs": [],
   "source": [
    "# Display columns and dtypes\n",
    "print('Columns:', df.columns.tolist())\n",
    "print('Data types:')\n",
    "print(df.dtypes)"
   ]
  },
  {
   "cell_type": "code",
   "execution_count": null,
   "metadata": {},
   "outputs": [],
   "source": [
    "# Function to print % missing per column and flag issues\n",
    "def missing_report(data):\n",
    "    missing = data.isnull().mean() * 100\n",
    "    flagged = missing[missing > 0] if missing.any() else None\n",
    "    print('Missing values (%):')\n",
    "    print(missing)\n",
    "    if flagged is not None:\n",
    "        print('Columns with missing values:')\n",
    "        print(flagged)\n",
    "    else:\n",
    "        print('No missing values detected.')\n",
    "    # Flag suspicious column names\n",
    "    suspicious = [col for col in data.columns if col.strip() == '' or col.lower().startswith('unnamed') or data.columns.duplicated().any()]\n",
    "    if suspicious:\n",
    "        print('Suspicious column names:', suspicious)\n",
    "    else:\n",
    "        print('No suspicious column names detected.')\n",
    "\n",
    "missing_report(df)"
   ]
  },
  {
   "cell_type": "code",
   "execution_count": null,
   "metadata": {},
   "outputs": [],
   "source": [
    "# Summary statistics\n",
    "df.describe(include='all').T"
   ]
  },
  {
   "cell_type": "code",
   "execution_count": null,
   "metadata": {},
   "outputs": [],
   "source": [
    "# Value distributions for key columns\n",
    "key_columns = ['AQ', 'EQ', 'SQ', 'SPQ', 'diagnosis', 'comorbidities']\n",
    "for col in key_columns:\n",
    "    if col in df.columns:\n",
    "        print(f'\\nValue counts for {col}:')\n",
    "        print(df[col].value_counts(dropna=False))\n",
    "    else:\n",
    "        print(f'Column {col} not found in dataset.')"
   ]
  }
 ],
 "metadata": {
  "kernelspec": {
   "display_name": "Python (venv)",
   "language": "python",
   "name": "venv"
  },
  "language_info": {
   "codemirror_mode": {
    "name": "ipython",
    "version": 3
   },
   "file_extension": ".py",
   "mimetype": "text/x-python",
   "name": "python",
   "nbconvert_exporter": "python",
   "pygments_lexer": "ipython3",
   "version": "3.13.5"
  }
 },
 "nbformat": 4,
 "nbformat_minor": 2
}
