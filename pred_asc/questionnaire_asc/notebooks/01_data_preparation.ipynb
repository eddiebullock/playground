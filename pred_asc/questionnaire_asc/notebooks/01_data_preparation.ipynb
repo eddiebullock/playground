{
 "cells": [
  {
   "cell_type": "code",
   "execution_count": null,
   "metadata": {},
   "outputs": [],
   "source": [
    "# 01 Data Preparation\n",
    "\n",
    "## Initial inspection and light cleaning of the main dataset.\n",
    "\n",
    "'''python\n",
    "- Loads the dataset.\n",
    "- Displays shape, columns, dtypes.\n",
    "- Checks for missing values.\n",
    "- Checks value distributions for key columns.\n",
    "- Outputs summary statistics.'''"
   ]
  },
  {
   "cell_type": "code",
   "execution_count": null,
   "metadata": {},
   "outputs": [],
   "source": [
    "import pandas as pd\n",
    "import numpy as np\n",
    "import os\n",
    "\n",
    "DATA_PATH = '/Users/eb2007/Library/CloudStorage/OneDrive-UniversityofCambridge/Documents/PhD/data/data_c4_clean.csv'\n",
    "\n",
    "# Load dataset\n",
    "df = pd.read_csv(DATA_PATH)\n",
    "print(f'Shape: {df.shape}')\n",
    "df.head()"
   ]
  },
  {
   "cell_type": "code",
   "execution_count": null,
   "metadata": {},
   "outputs": [],
   "source": [
    "# Numeric columns summary\n",
    "display(df.select_dtypes(include=[np.number]).describe().T)\n",
    "\n",
    "# Categorical columns summary\n",
    "display(df.select_dtypes(include=['object']).describe().T)"
   ]
  },
  {
   "cell_type": "code",
   "execution_count": null,
   "metadata": {},
   "outputs": [],
   "source": [
    "\n",
    "# Display columns and dtypes\n",
    "print('Columns:', df.columns.tolist())\n",
    "print('Data types:')\n",
    "print(df.dtypes)"
   ]
  },
  {
   "cell_type": "markdown",
   "metadata": {},
   "source": [
    "### Diagnosis Columns\n",
    "\n",
    "- `diagnosis_0` to `diagnosis_8`:\n",
    "    1. Attention Deficit / Hyperactivity Disorder\n",
    "    2. Autism Spectrum Disorder\n",
    "    3. Bipolar Disorder\n",
    "    4. Depression\n",
    "    5. Learning disability\n",
    "    6. Obsessive-Compulsive Disorder\n",
    "    7. Schizophrenia\n",
    "    8. I prefer not to say\n",
    "    9. I have not been diagnosed with any of these conditions\n",
    "\n",
    "- `autism_diagnosis_0` to `autism_diagnosis_2`:\n",
    "    1. Autism (classical autism)\n",
    "    2. Asperger Syndrome (AS)\n",
    "    3. Other"
   ]
  },
  {
   "cell_type": "code",
   "execution_count": null,
   "metadata": {},
   "outputs": [],
   "source": [
    "# Function to print % missing per column and flag issues\n",
    "def missing_report(data):\n",
    "    missing = data.isnull().mean() * 100\n",
    "    flagged = missing[missing > 0] if missing.any() else None\n",
    "    print('Missing values (%):')\n",
    "    print(missing)\n",
    "    if flagged is not None:\n",
    "        print('Columns with missing values:')\n",
    "        print(flagged)\n",
    "    else:\n",
    "        print('No missing values detected.')\n",
    "    # Flag suspicious column names\n",
    "    suspicious = [col for col in data.columns if col.strip() == '' or col.lower().startswith('unnamed') or data.columns.duplicated().any()]\n",
    "    if suspicious:\n",
    "        print('Suspicious column names:', suspicious)\n",
    "    else:\n",
    "        print('No suspicious column names detected.')\n",
    "\n",
    "missing_report(df)"
   ]
  },
  {
   "cell_type": "code",
   "execution_count": null,
   "metadata": {},
   "outputs": [],
   "source": [
    "# Replace '#NULL!' with np.nan everywhere\n",
    "df.replace('#NULL!', np.nan, inplace=True)\n",
    "\n",
    "# Convert diagnosis columns to numeric (if possible)\n",
    "diagnosis_cols = [f'diagnosis_{i}' for i in range(0, 9)] + [f'autism_diagnosis_{i}' for i in range(0, 3)]\n",
    "for col in diagnosis_cols:\n",
    "    if col in df.columns:\n",
    "        df[col] = pd.to_numeric(df[col], errors='coerce')"
   ]
  },
  {
   "cell_type": "code",
   "execution_count": null,
   "metadata": {},
   "outputs": [],
   "source": [
    "# Value distributions for key columns\n",
    "key_columns = (\n",
    "    [f'SPQ_{i}' for i in range(1, 11)] +\n",
    "    [f'EQ_{i}' for i in range(1, 11)] +\n",
    "    [f'SQR_{i}' for i in range(1, 11)] +\n",
    "    [f'AQ_{i}' for i in range(1, 11)] +\n",
    "    ['EQ_10_total', 'SQR_10_total', 'SPQ_10_total', 'AQ_10_total'] +\n",
    "    [f'diagnosis_{i}' for i in range(0, 9)] +\n",
    "    [f'autism_diagnosis_{i}' for i in range(0, 3)]\n",
    ")\n",
    "for col in key_columns:\n",
    "    if col in df.columns:\n",
    "        print(f'\\nValue counts for {col}:')\n",
    "        print(df[col].value_counts(dropna=False))\n",
    "    else:\n",
    "        print(f'Column {col} not found in dataset.')"
   ]
  },
  {
   "cell_type": "code",
   "execution_count": null,
   "metadata": {},
   "outputs": [],
   "source": [
    "# 1. Create a single column for the first non-null diagnosis type\n",
    "autism_diag_cols = ['autism_diagnosis_0', 'autism_diagnosis_1', 'autism_diagnosis_2']\n",
    "df['autism_diagnosis_flat'] = df[autism_diag_cols].bfill(axis=1).iloc[:, 0]\n",
    "\n",
    "# 2. Create a binary flag for \"has any autism diagnosis\"\n",
    "df['has_autism_diagnosis'] = df[autism_diag_cols].notnull().any(axis=1)\n",
    "\n",
    "# 3. (Optional) Flag rows with multiple types (possible data artifact)\n",
    "df['multiple_autism_types'] = df[autism_diag_cols].notnull().sum(axis=1) > 1\n",
    "\n",
    "# 4. (Optional) See how many have multiple types\n",
    "print(df['multiple_autism_types'].value_counts())\n",
    "\n",
    "# List of diagnosis columns\n",
    "diagnosis_cols = [f'diagnosis_{i}' for i in range(0, 9)]\n",
    "\n",
    "# Flag if any diagnosis column is 2 (Autism Spectrum Disorder)\n",
    "df['is_autistic'] = df[diagnosis_cols].eq(2).any(axis=1)\n",
    "\n",
    "# Count\n",
    "print(df['is_autistic'].value_counts())\n",
    "print('Number of autistic individuals:', df['is_autistic'].sum())"
   ]
  },
  {
   "cell_type": "code",
   "execution_count": null,
   "metadata": {},
   "outputs": [],
   "source": [
    "# Count autistic people\n",
    "diagnosis_cols = [f'diagnosis_{i}' for i in range(0, 9)]\n",
    "df['is_autistic'] = df[diagnosis_cols].eq(2).any(axis=1)\n",
    "print('Number of autistic individuals:', df['is_autistic'].sum())"
   ]
  }
 ],
 "metadata": {
  "kernelspec": {
   "display_name": "Python (questionnaire_asc)",
   "language": "python",
   "name": "questionnaire_asc"
  }
 },
 "nbformat": 4,
 "nbformat_minor": 2
}
